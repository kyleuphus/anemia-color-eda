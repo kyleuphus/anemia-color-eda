{
  "cells": [
    {
      "cell_type": "markdown",
      "metadata": {},
      "source": [
        "# Initial class project submission"
      ]
    },
    {
      "cell_type": "code",
      "execution_count": 1,
      "metadata": {
        "id": "ovWzmHDYKOQK"
      },
      "outputs": [],
      "source": [
        "import csv\n",
        "import matplotlib.pyplot as plt\n",
        "import numpy as np\n",
        "File_Name ='dataset.csv'"
      ]
    },
    {
      "cell_type": "code",
      "execution_count": null,
      "metadata": {
        "id": "MbqDS56ZKqg6"
      },
      "outputs": [],
      "source": [
        "def CSV_Data_Reader(File_Name, Separator, NonNumerical):\n",
        "  '''\n",
        "  This function takes a csv file and generate a dictionary.\n",
        "  The keys of the dictionary are the column names.\n",
        "  Values of the dictionary are columns of the data\n",
        "  '''\n",
        "  with open(File_Name) as csv_file:\n",
        "    csv_reader = csv.reader(csv_file, delimiter=Separator)\n",
        "    line_count=0\n",
        "    Data=[]\n",
        "    for row in csv_reader:\n",
        "      if line_count==0:\n",
        "        Header=row\n",
        "      else:\n",
        "        Data.append(row)\n",
        "      line_count=line_count+1\n",
        "\n",
        "  Data_dict={}\n",
        "\n",
        "  idx=0\n",
        "  for name in Header:\n",
        "    Data_dict[name]=[]\n",
        "    for row in Data:\n",
        "      if name in NonNumerical:\n",
        "        Data_dict[name].append(row[idx])\n",
        "      else:\n",
        "        if row[idx].replace('.','').isdigit():\n",
        "          Data_dict[name].append(float(row[idx]))\n",
        "        else:\n",
        "          Data_dict[name].append(None)\n",
        "    idx=idx+1\n",
        "  return Data_dict"
      ]
    },
    {
      "cell_type": "code",
      "execution_count": null,
      "metadata": {
        "colab": {
          "base_uri": "https://localhost:8080/",
          "height": 305
        },
        "id": "zlyV9z2DKwCo",
        "outputId": "5b36be6a-ad97-4840-8f5e-fa1529b7c670"
      },
      "outputs": [
        {
          "ename": "FileNotFoundError",
          "evalue": "[Errno 2] No such file or directory: '/content/d_output.csv'",
          "output_type": "error",
          "traceback": [
            "\u001b[0;31m---------------------------------------------------------------------------\u001b[0m",
            "\u001b[0;31mFileNotFoundError\u001b[0m                         Traceback (most recent call last)",
            "\u001b[0;32m/tmp/ipython-input-3463960833.py\u001b[0m in \u001b[0;36m<cell line: 0>\u001b[0;34m()\u001b[0m\n\u001b[1;32m      2\u001b[0m \u001b[0mNonNumerical\u001b[0m\u001b[0;34m=\u001b[0m\u001b[0;34m[\u001b[0m\u001b[0;34m'Sex'\u001b[0m\u001b[0;34m,\u001b[0m\u001b[0;34m'Anaemic'\u001b[0m\u001b[0;34m]\u001b[0m\u001b[0;34m\u001b[0m\u001b[0;34m\u001b[0m\u001b[0m\n\u001b[1;32m      3\u001b[0m \u001b[0;34m\u001b[0m\u001b[0m\n\u001b[0;32m----> 4\u001b[0;31m \u001b[0mData_Parsed\u001b[0m\u001b[0;34m=\u001b[0m\u001b[0mCSV_Data_Reader\u001b[0m\u001b[0;34m(\u001b[0m\u001b[0mFile_Name\u001b[0m\u001b[0;34m,\u001b[0m \u001b[0mSeperator\u001b[0m\u001b[0;34m,\u001b[0m \u001b[0mNonNumerical\u001b[0m\u001b[0;34m)\u001b[0m\u001b[0;34m\u001b[0m\u001b[0;34m\u001b[0m\u001b[0m\n\u001b[0m",
            "\u001b[0;32m/tmp/ipython-input-1566889271.py\u001b[0m in \u001b[0;36mCSV_Data_Reader\u001b[0;34m(File_Name, Seprator, NonNumerical)\u001b[0m\n\u001b[1;32m      5\u001b[0m   \u001b[0mValues\u001b[0m \u001b[0mof\u001b[0m \u001b[0mthe\u001b[0m \u001b[0mdictionary\u001b[0m \u001b[0mare\u001b[0m \u001b[0mcolumns\u001b[0m \u001b[0mof\u001b[0m \u001b[0mthe\u001b[0m \u001b[0mdata\u001b[0m\u001b[0;34m\u001b[0m\u001b[0;34m\u001b[0m\u001b[0m\n\u001b[1;32m      6\u001b[0m   '''\n\u001b[0;32m----> 7\u001b[0;31m   \u001b[0;32mwith\u001b[0m \u001b[0mopen\u001b[0m\u001b[0;34m(\u001b[0m\u001b[0mFile_Name\u001b[0m\u001b[0;34m)\u001b[0m \u001b[0;32mas\u001b[0m \u001b[0mcsv_file\u001b[0m\u001b[0;34m:\u001b[0m\u001b[0;34m\u001b[0m\u001b[0;34m\u001b[0m\u001b[0m\n\u001b[0m\u001b[1;32m      8\u001b[0m     \u001b[0mcsv_reader\u001b[0m \u001b[0;34m=\u001b[0m \u001b[0mcsv\u001b[0m\u001b[0;34m.\u001b[0m\u001b[0mreader\u001b[0m\u001b[0;34m(\u001b[0m\u001b[0mcsv_file\u001b[0m\u001b[0;34m,\u001b[0m \u001b[0mdelimiter\u001b[0m\u001b[0;34m=\u001b[0m\u001b[0mSeprator\u001b[0m\u001b[0;34m)\u001b[0m\u001b[0;34m\u001b[0m\u001b[0;34m\u001b[0m\u001b[0m\n\u001b[1;32m      9\u001b[0m     \u001b[0mline_count\u001b[0m\u001b[0;34m=\u001b[0m\u001b[0;36m0\u001b[0m\u001b[0;34m\u001b[0m\u001b[0;34m\u001b[0m\u001b[0m\n",
            "\u001b[0;31mFileNotFoundError\u001b[0m: [Errno 2] No such file or directory: '/content/d_output.csv'"
          ]
        }
      ],
      "source": [
        "Separator=','\n",
        "NonNumerical=['Sex','Anaemic']\n",
        "\n",
        "Data_Parsed=CSV_Data_Reader(File_Name, Separator, NonNumerical)"
      ]
    },
    {
      "cell_type": "code",
      "execution_count": null,
      "metadata": {
        "id": "txQ3L4teK69f"
      },
      "outputs": [],
      "source": [
        "Data_Parsed.keys()"
      ]
    },
    {
      "cell_type": "code",
      "execution_count": null,
      "metadata": {
        "id": "UeyoTY0i8rQm"
      },
      "outputs": [],
      "source": [
        "plt.plot(Data_Parsed['%Red Pixel'])\n",
        "plt.grid()\n",
        "plt.xlabel('Patient')\n",
        "plt.ylabel('%Red Pixel')\n",
        "plt.title('Red Pixel Percentage')\n",
        "plt.xlim([0,500])"
      ]
    },
    {
      "cell_type": "code",
      "execution_count": null,
      "metadata": {
        "id": "Pim3IRpf83_W"
      },
      "outputs": [],
      "source": [
        "plt.scatter(Data_Parsed['Number'],Data_Parsed['Hb'])\n",
        "plt.grid()\n",
        "plt.title('Hemoglobin Level for each Patient ID')\n",
        "plt.ylabel('Hemoglobin Level')\n",
        "plt.xlabel('Patient ID')\n",
        "plt.ylim([2,18])"
      ]
    },
    {
      "cell_type": "code",
      "execution_count": null,
      "metadata": {
        "id": "BHm2wQU5MjsY"
      },
      "outputs": [],
      "source": [
        "plt.hist(Data_Parsed['%Green pixel'],edgecolor='black', bins=[25, 26, 27, 28, 29, 30, 31, 32, 33,])\n",
        "plt.title('Green Pixel Percentage Distribution')\n",
        "plt.xlabel('%Green Pixel')\n",
        "plt.ylabel('Number of Patients')"
      ]
    },
    {
      "cell_type": "code",
      "execution_count": null,
      "metadata": {
        "id": "Qw1lWe5RJKYC"
      },
      "outputs": [],
      "source": [
        "malePositiveAnemic = []\n",
        "maleNegativeAnemic = []\n",
        "femalePositiveAnemic = []\n",
        "femaleNegativeAnemic = []\n",
        "\n",
        "patientIDs = Data_Parsed['Number']\n",
        "sexes = Data_Parsed['Sex']\n",
        "redPixelCounts = Data_Parsed['%Red Pixel']\n",
        "anemiaStatuses = Data_Parsed['Anaemic']\n",
        "\n",
        "sexes = [x.strip(' ') for x in sexes]\n",
        "anemiaStatuses = [x.strip(' ') for x in anemiaStatuses]\n",
        "\n",
        "i=0\n",
        "\n",
        "while i <500:\n",
        "\n",
        "\n",
        "\n",
        "  for record in patientIDs:\n",
        "    if sexes[i] == 'M':\n",
        "      if anemiaStatuses[i] == 'Yes':\n",
        "        malePositiveAnemic.append(redPixelCounts[i])\n",
        "      else:\n",
        "        maleNegativeAnemic.append(redPixelCounts[i])\n",
        "    else:\n",
        "      if anemiaStatuses[i] == 'Yes':\n",
        "        femalePositiveAnemic.append(redPixelCounts[i])\n",
        "      else:\n",
        "        femaleNegativeAnemic.append(redPixelCounts[i])\n",
        "\n",
        "    print(f\"Record {i}: Sex={sexes[i]}, Red Pixel={redPixelCounts[i]}, Anaemic={anemiaStatuses[i]}\")\n",
        "    print(len(malePositiveAnemic))\n",
        "    print(len(maleNegativeAnemic))\n",
        "    print(len(femalePositiveAnemic))\n",
        "    print(len(femaleNegativeAnemic))\n",
        "\n",
        "    i=i+1\n",
        "\n",
        "print()\n",
        "print(len(malePositiveAnemic))\n",
        "print(len(maleNegativeAnemic))\n",
        "print(len(femalePositiveAnemic))\n",
        "print(len(femaleNegativeAnemic))\n"
      ]
    },
    {
      "cell_type": "code",
      "execution_count": null,
      "metadata": {
        "id": "aRu27xHllYx-"
      },
      "outputs": [],
      "source": [
        "def avgRed(group):\n",
        "\n",
        "  total = 0\n",
        "\n",
        "  for i in range(len(group)):\n",
        "    total += group[i]\n",
        "\n",
        "  avg = total/len(group)\n",
        "\n",
        "  return avg\n",
        "\n",
        "avgMalePos = avgRed(malePositiveAnemic)\n",
        "avgMaleNeg = avgRed(maleNegativeAnemic)\n",
        "avgFemalePos = avgRed(femalePositiveAnemic)\n",
        "avgFemaleNeg = avgRed(femaleNegativeAnemic)\n",
        "\n",
        "print(f\"The average red pixel percentage for male patients with anemia is {avgMalePos}\")\n",
        "print(f\"The average red pixel percentage for male patients without anemia is {avgMaleNeg}\")\n",
        "print(f\"The average red pixel percentage for female patients with anemia is {avgFemalePos}\")\n",
        "print(f\"The average red pixel percentage for female patients without anemia is {avgFemaleNeg}\")\n",
        "\n",
        "avgs = [avgMalePos, avgMaleNeg, avgFemalePos, avgFemaleNeg]\n",
        "groups = ['Male Pos', 'Male Neg', 'Female Pos', 'Female Neg']\n",
        "\n",
        "plt.scatter(groups, avgs)\n",
        "plt.grid()\n",
        "plt.title('Average Red Pixel Percentages')\n",
        "plt.ylabel('%Red Pixel')\n",
        "plt.xlabel('Group')\n",
        "plt.ylim([42,48])\n"
      ]
    },
    {
      "cell_type": "code",
      "execution_count": null,
      "metadata": {
        "id": "8JXaG7aNnGlR"
      },
      "outputs": [],
      "source": [
        "def maxRed(group):\n",
        "\n",
        "  maxGroup = max(group)\n",
        "\n",
        "  return maxGroup\n",
        "\n",
        "maxMalePos = maxRed(malePositiveAnemic)\n",
        "maxMaleNeg = maxRed(maleNegativeAnemic)\n",
        "maxFemalePos = maxRed(femalePositiveAnemic)\n",
        "maxFemaleNeg = maxRed(femaleNegativeAnemic)\n",
        "\n",
        "print(f\"The maximum red pixel percentage for male patients with anemia is {maxMalePos}\")\n",
        "print(f\"The maximum red pixel percentage for male patients without anemia is {maxMaleNeg}\")\n",
        "print(f\"The maximum red pixel percentage for female patients with anemia is {maxFemalePos}\")\n",
        "print(f\"The maximum red pixel percentage for female patients without anemia is {maxFemaleNeg}\")\n",
        "\n",
        "maxes = [maxMalePos, maxMaleNeg, maxFemalePos, maxFemaleNeg]\n",
        "\n",
        "plt.scatter(groups, maxes)\n",
        "plt.grid()\n",
        "plt.title('Maximum Red Pixel Percentages')\n",
        "plt.ylabel('%Red Pixel')\n",
        "plt.xlabel('Group')\n",
        "plt.ylim([42,56])\n",
        "\n"
      ]
    },
    {
      "cell_type": "code",
      "execution_count": null,
      "metadata": {
        "id": "r37Gf3zrn7uJ"
      },
      "outputs": [],
      "source": [
        "def numRecords(group):\n",
        "\n",
        "  num = len(group)\n",
        "\n",
        "  return num\n",
        "\n",
        "numMalePos = numRecords(malePositiveAnemic)\n",
        "numMaleNeg = numRecords(maleNegativeAnemic)\n",
        "numFemalePos = numRecords(femalePositiveAnemic)\n",
        "numFemaleNeg = numRecords(femaleNegativeAnemic)\n",
        "\n",
        "print(f\"The number of male patients with anemia is {numMalePos}\")\n",
        "print(f\"The number of male patients without anemia is {numMaleNeg}\")\n",
        "print(f\"The number of female patients with anemia is {numFemalePos}\")\n",
        "print(f\"The number of female patients without anemia) is {numFemaleNeg}\")\n",
        "\n",
        "nums = [numMalePos, numMaleNeg, numFemalePos, numFemaleNeg]\n",
        "\n",
        "plt.scatter(groups, nums)\n",
        "plt.grid()\n",
        "plt.title('Number of Patients')\n",
        "plt.ylabel('Number of Patients')\n",
        "plt.xlabel('Group')\n",
        "plt.ylim([80, 170])"
      ]
    },
    {
      "cell_type": "code",
      "execution_count": null,
      "metadata": {
        "id": "zExBeW-KtfNs"
      },
      "outputs": [],
      "source": [
        "malePositiveAnemicArray = np.array(malePositiveAnemic)\n",
        "maleNegativeAnemicArray = np.array(maleNegativeAnemic)\n",
        "femalePositiveAnemicArray = np.array(femalePositiveAnemic)\n",
        "femaleNegativeAnemicArray = np.array(femaleNegativeAnemic)\n",
        "\n",
        "npAvgMalePos = np.average(malePositiveAnemicArray)\n",
        "npAvgMaleNeg = np.average(maleNegativeAnemicArray)\n",
        "npAvgFemalePos = np.average(femalePositiveAnemicArray)\n",
        "npAvgFemaleNeg = np.average(femaleNegativeAnemicArray)\n",
        "\n",
        "print(f\"Average %Red Pixel of an anemic male using my function is {avgMalePos}, average using NumPy is {npAvgMalePos}\")\n",
        "print(f\"Average %Red Pixel of an non-anemic male using my function is {avgMaleNeg}, average using NumPy is {npAvgMaleNeg}\")\n",
        "print(f\"Average %Red Pixel of an anemic female using my function is {avgFemalePos}, average using NumPy is {npAvgFemalePos}\")\n",
        "print(f\"Average %Red Pixel of an non-anemic female using my function is {avgFemaleNeg}, average using NumPy is {npAvgFemaleNeg}\")\n",
        "\n",
        "npMaxMalePos = np.max(malePositiveAnemicArray)\n",
        "npMaxMaleNeg = np.max(maleNegativeAnemicArray)\n",
        "npMaxFemalePos = np.max(femalePositiveAnemicArray)\n",
        "npMaxFemaleNeg = np.max(femaleNegativeAnemicArray)\n",
        "\n",
        "print()\n",
        "\n",
        "print(f\"Max %Red Pixel of an anemic male using my function is {maxMalePos}, max using NumPy is {npMaxMalePos}\")\n",
        "print(f\"Max %Red Pixel of an non-anemic male using my function is {maxMaleNeg}, max using NumPy is {npMaxMaleNeg}\")\n",
        "print(f\"Max %Red Pixel of an anemic female using my function is {maxFemalePos}, max using NumPy is {npMaxFemalePos}\")\n",
        "print(f\"Max %Red Pixel of an non-anemic female using my function is {maxFemaleNeg}, max using NumPy is {npMaxFemaleNeg}\")\n",
        "\n",
        "npNumMalePos = np.size(malePositiveAnemicArray)\n",
        "npNumMaleNeg = np.size(maleNegativeAnemicArray)\n",
        "npNumFemalePos = np.size(femalePositiveAnemicArray)\n",
        "npNumFemaleNeg = np.size(femaleNegativeAnemic)\n",
        "\n",
        "print()\n",
        "\n",
        "print(f\"Number of records of anemic males using my function is {numMalePos}, number of records using NumPy is {npNumMalePos}\")\n",
        "print(f\"Number of records of non-anemic males using my function is {numMaleNeg}, number of records using NumPy is {npNumMaleNeg}\")\n",
        "print(f\"Number of records of anemic females using my function is {numFemalePos}, number of records using NumPy is {npNumFemalePos}\")\n",
        "print(f\"Number of records of non-anemic females using my function is {numFemaleNeg}, number of records using NumPy is {npNumFemaleNeg}\")"
      ]
    }
  ],
  "metadata": {
    "colab": {
      "provenance": [],
      "toc_visible": true
    },
    "kernelspec": {
      "display_name": "Python 3",
      "name": "python3"
    },
    "language_info": {
      "codemirror_mode": {
        "name": "ipython",
        "version": 3
      },
      "file_extension": ".py",
      "mimetype": "text/x-python",
      "name": "python",
      "nbconvert_exporter": "python",
      "pygments_lexer": "ipython3",
      "version": "3.11.13"
    }
  },
  "nbformat": 4,
  "nbformat_minor": 0
}
